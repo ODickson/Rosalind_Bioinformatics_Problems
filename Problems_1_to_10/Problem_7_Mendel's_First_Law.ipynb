{
  "nbformat": 4,
  "nbformat_minor": 0,
  "metadata": {
    "colab": {
      "name": "Problem 7: Mendel's First Law.ipynb",
      "provenance": []
    },
    "kernelspec": {
      "name": "python3",
      "display_name": "Python 3"
    },
    "language_info": {
      "name": "python"
    }
  },
  "cells": [
    {
      "cell_type": "markdown",
      "source": [
        "# Problem 7: Mendel's First Law\n",
        "The probability of any outcome (leaf) in a probability tree diagram is given by the product of probabilities from the start of the tree to the outcome. For example, the probability that X is blue and Y is blue is equal to (2/5)(1/4), or 1/10.\n",
        "Probability is the mathematical study of randomly occurring phenomena. We will model such a phenomenon with a random variable, which is simply a variable that can take a number of different distinct outcomes depending on the result of an underlying random process.\n",
        "\n",
        "For example, say that we have a bag containing 3 red balls and 2 blue balls. If we let X represent the random variable corresponding to the color of a drawn ball, then the probability of each of the two outcomes is given by Pr(X=red)=35 and Pr(X=blue)=25.\n",
        "\n",
        "Random variables can be combined to yield new random variables. Returning to the ball example, let Y model the color of a second ball drawn from the bag (without replacing the first ball). The probability of Y being red depends on whether the first ball was red or blue. To represent all outcomes of X and Y, we therefore use a probability tree diagram. This branching diagram represents all possible individual probabilities for X and Y, with outcomes at the endpoints (\"leaves\") of the tree. The probability of any outcome is given by the product of probabilities along the path from the beginning of the tree; see Figure 2 for an illustrative example.\n",
        "\n",
        "An event is simply a collection of outcomes. Because outcomes are distinct, the probability of an event can be written as the sum of the probabilities of its constituent outcomes. For our colored ball example, let A be the event \"Y is blue.\" Pr(A) is equal to the sum of the probabilities of two different outcomes: Pr(X=blue and Y=blue)+Pr(X=red and Y=blue), or 310+110=25 (see Figure 2 above).\n",
        "\n",
        "Given: Three positive integers k, m, and n, representing a population containing k+m+n organisms: k individuals are homozygous dominant for a factor, m are heterozygous, and n are homozygous recessive.\n",
        "\n",
        "Return: The probability that two randomly selected mating organisms will produce an individual possessing a dominant allele (and thus displaying the dominant phenotype). Assume that any two organisms can mate.\n",
        "\n",
        "Sample Dataset\n",
        ">2 2 2\n",
        "\n",
        "Sample Output\n",
        ">0.78333"
      ],
      "metadata": {
        "id": "hAcsR9EB-pRD"
      }
    },
    {
      "cell_type": "code",
      "source": [
        "def probDom(k,m,n):\n",
        "    total = k + m + n\n",
        "    \n",
        "    pKpK = k/(total) * (k-1)/(total-1)\n",
        "\n",
        "    pMpN = (m / total) * (n / (total-1)) * 0.5\n",
        "\n",
        "    pNpM = (n / total) * (m / (total-1)) * 0.5\n",
        "    \n",
        "    pMpM = (m / total) * ((m-1) / (total-1)) * 0.75\n",
        "\n",
        "    pKpN = k/(total) * (n / (total-1)) + n/(total) * (k / (total-1))\n",
        "\n",
        "    pKpM = k/(total) * (m / (total-1)) + m/(total) * (k / (total-1))\n",
        "    \n",
        "    return pKpK + pMpN + pNpM + pKpN + pKpM + pMpM"
      ],
      "metadata": {
        "id": "JguiRbIR-8bj"
      },
      "execution_count": 53,
      "outputs": []
    },
    {
      "cell_type": "code",
      "source": [
        "testK = 2\n",
        "testM = 2\n",
        "testN = 2\n",
        "probDom(testK,testM,testN)"
      ],
      "metadata": {
        "colab": {
          "base_uri": "https://localhost:8080/"
        },
        "id": "uDY5A1PbTSqn",
        "outputId": "76964f3f-beb4-4a79-98f1-e99aca65e539"
      },
      "execution_count": 54,
      "outputs": [
        {
          "output_type": "execute_result",
          "data": {
            "text/plain": [
              "0.7833333333333334"
            ]
          },
          "metadata": {},
          "execution_count": 54
        }
      ]
    },
    {
      "cell_type": "code",
      "source": [
        "actualK = 27\n",
        "actualM = 30\n",
        "actualN = 26\n",
        "probDom(actualK,actualM,actualN)"
      ],
      "metadata": {
        "colab": {
          "base_uri": "https://localhost:8080/"
        },
        "id": "xumCjqm_Xhke",
        "outputId": "c1156a5f-398f-461f-b00a-9b8d855439d1"
      },
      "execution_count": 55,
      "outputs": [
        {
          "output_type": "execute_result",
          "data": {
            "text/plain": [
              "0.7579341757272995"
            ]
          },
          "metadata": {},
          "execution_count": 55
        }
      ]
    }
  ]
}