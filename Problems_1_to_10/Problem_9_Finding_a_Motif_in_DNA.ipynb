{
  "nbformat": 4,
  "nbformat_minor": 0,
  "metadata": {
    "colab": {
      "name": "Problem 9: Finding a Motif in DNA.ipynb",
      "provenance": []
    },
    "kernelspec": {
      "name": "python3",
      "display_name": "Python 3"
    },
    "language_info": {
      "name": "python"
    }
  },
  "cells": [
    {
      "cell_type": "markdown",
      "source": [
        "# Problem 9: Finding a Motif in DNA\n",
        "\n",
        "Given two strings s and t, t is a substring of s if t is contained as a contiguous collection of symbols in s (as a result, t must be no longer than s).\n",
        "\n",
        "The position of a symbol in a string is the total number of symbols found to its left, including itself (e.g., the positions of all occurrences of 'U' in \"AUGCUUCAGAAAGGUCUUACG\" are 2, 5, 6, 15, 17, and 18). The symbol at position i of s is denoted by s[i].\n",
        "\n",
        "A substring of s can be represented as s[j:k], where j and k represent the starting and ending positions of the substring in s; for example, if s = \"AUGCUUCAGAAAGGUCUUACG\", then s[2:5] = \"UGCU\".\n",
        "\n",
        "The location of a substring s[j:k] is its beginning position j; note that t will have multiple locations in s if it occurs more than once as a substring of s (see the Sample below).\n",
        "\n",
        "Given: Two DNA strings s and t (each of length at most 1 kbp).\n",
        "\n",
        "Return: All locations of t as a substring of s.\n",
        "\n",
        "Sample Dataset\n",
        ">GATATATGCATATACTT\\\n",
        "ATAT\n",
        "\n",
        "Sample Output\n",
        ">2 4 10"
      ],
      "metadata": {
        "id": "hAcsR9EB-pRD"
      }
    },
    {
      "cell_type": "code",
      "source": [
        "def findSubstringLocations(substring, string):\n",
        "    import re\n",
        "    substring = '(?=' + substring + ')'  # us re to identify the locations of the sub string\n",
        "    locations = [m.start()+1 for m in re.finditer(substring, string)]\n",
        "    return locations"
      ],
      "metadata": {
        "id": "JguiRbIR-8bj"
      },
      "execution_count": 69,
      "outputs": []
    },
    {
      "cell_type": "code",
      "source": [
        "testSeq = \"GATATATGCATATACTT\"\n",
        "testSubSeq = \"ATAT\""
      ],
      "metadata": {
        "id": "woadC_kjZgfZ"
      },
      "execution_count": 67,
      "outputs": []
    },
    {
      "cell_type": "code",
      "source": [
        "findSubstringLocations(testSubSeq,testSeq)"
      ],
      "metadata": {
        "colab": {
          "base_uri": "https://localhost:8080/"
        },
        "id": "MaaPBofJZxXc",
        "outputId": "16da40c1-052a-488c-9acd-39c578a6ddcc"
      },
      "execution_count": 70,
      "outputs": [
        {
          "output_type": "execute_result",
          "data": {
            "text/plain": [
              "[2, 4, 10]"
            ]
          },
          "metadata": {},
          "execution_count": 70
        }
      ]
    },
    {
      "cell_type": "code",
      "source": [
        "actualSubSeq = 'GCAGATGGC'\n",
        "actualSeq = 'AGGTGCAGATGGCAGATGATAATGACTACTGCAGATGGGGGCGCAGATGGCAGATGTTGCAGATGGTGCAGATGGCAGATGGCGCGCAGATGTGCAGATGGCAGATGGGCTTGCAGCAGATGGTATGCAGATGTGCGCAGATGCCTTCACGCGCGATTCCCCGGCAGATGTACTGTGCAGATGGCAGATGTGCAGATGGGCAGATGGCCAGGCAGATGGATGCAGATGTAGGGTGGCAGATGTGTGTGCAGATGTGCAGATGTGCAGATGTAAGGGCAGATGCGCAGATGACCAGCAGATGCGCAGATGTGGCAGATGGCAGATGACGCAGATGAGGCAGATGTAGCAGATGGCAGATGCCAGCAGATGGCAGATGTCCCCCCGCAGATGCTAAGGCAGATGCGCAGATGGCAGATGAAGACGCAGATGGCAGATGGCAGATGGTTGACGCAGATGCCTTCCTGGGCAGATGCGCAGATGCCGAGCAGATGGCAGATGAGCAGATGTAGGCAGATGTACTTTTCTGAGTTTTGCAGATGTAGCAGATGTTGCAGATGGCAGATGCCACGCAGATGGCAGATGGCAGATGGCAGATGGCTTTTACAACGTAAGGGCAGATGTTTCACGACGCAGATGGCAGATGCCGCAGATGACGCAGATGGCGCAGATGGGCCGGTGCAGATGCATGCAGATGCAGCAGATGTGCAGATGTCCTCGGCAGATGCGCAGATGGCAGATGTAGCAGATGGCAGATGGCAGATGTCAGCAGATGATCGCAGATGTGCAGATGCTGCAGATGGCAGATGTTCGCAGATG'"
      ],
      "metadata": {
        "id": "d2FVCVFraDZh"
      },
      "execution_count": 72,
      "outputs": []
    },
    {
      "cell_type": "code",
      "source": [
        "findSubstringLocations(actualSubSeq,actualSeq)"
      ],
      "metadata": {
        "colab": {
          "base_uri": "https://localhost:8080/"
        },
        "id": "bmtR3UvfaMzq",
        "outputId": "9686912e-92cd-420a-a70a-024b85f8244b"
      },
      "execution_count": 73,
      "outputs": [
        {
          "output_type": "execute_result",
          "data": {
            "text/plain": [
              "[5,\n",
              " 43,\n",
              " 68,\n",
              " 75,\n",
              " 94,\n",
              " 177,\n",
              " 200,\n",
              " 312,\n",
              " 346,\n",
              " 363,\n",
              " 404,\n",
              " 423,\n",
              " 430,\n",
              " 485,\n",
              " 551,\n",
              " 569,\n",
              " 576,\n",
              " 583,\n",
              " 590,\n",
              " 630,\n",
              " 655,\n",
              " 726,\n",
              " 742,\n",
              " 749,\n",
              " 793]"
            ]
          },
          "metadata": {},
          "execution_count": 73
        }
      ]
    }
  ]
}