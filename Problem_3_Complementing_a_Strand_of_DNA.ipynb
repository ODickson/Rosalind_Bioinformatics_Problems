{
  "nbformat": 4,
  "nbformat_minor": 0,
  "metadata": {
    "colab": {
      "name": "Problem 3: Complementing a Strand of DNA.ipynb",
      "provenance": []
    },
    "kernelspec": {
      "name": "python3",
      "display_name": "Python 3"
    },
    "language_info": {
      "name": "python"
    }
  },
  "cells": [
    {
      "cell_type": "markdown",
      "source": [
        "# Problem 3: Complementing a Strand of DNA\n",
        "\n",
        "In DNA strings, symbols 'A' and 'T' are complements of each other, as are 'C' and 'G'.\n",
        "\n",
        "The reverse complement of a DNA string s is the string sc formed by reversing the symbols of s, then taking the complement of each symbol (e.g., the reverse complement of \"GTCA\" is \"TGAC\").\n",
        "\n",
        "Given: A DNA string s of length at most 1000 bp.\n",
        "\n",
        "Return: The reverse complement sc of s.\n",
        "\n",
        "Sample Dataset \\\n",
        "> AAAACCCGGT \\\n",
        "\n",
        "Sample Output \\\n",
        "> ACCGGGTTTT"
      ],
      "metadata": {
        "id": "hAcsR9EB-pRD"
      }
    },
    {
      "cell_type": "code",
      "source": [
        "testString = \"AAAACCCGGT\""
      ],
      "metadata": {
        "id": "Brwphwex-qoT"
      },
      "execution_count": 15,
      "outputs": []
    },
    {
      "cell_type": "code",
      "source": [
        "import string\n",
        "def complementDNA(sequence):\n",
        "    # cant just use a .replace as all replacements need to happen at the same time\n",
        "    # solution: create a translation map\n",
        "    complementDict =  {'A': 'T', 'T':'A', 'C': 'G', 'G': 'C'}\n",
        "    transTable = sequence.maketrans(complementDict)\n",
        "    return sequence.translate(transTable)[::-1]"
      ],
      "metadata": {
        "id": "JguiRbIR-8bj"
      },
      "execution_count": 16,
      "outputs": []
    },
    {
      "cell_type": "code",
      "source": [
        "complementDNA(testString)"
      ],
      "metadata": {
        "colab": {
          "base_uri": "https://localhost:8080/",
          "height": 35
        },
        "id": "TbnyW_fo_AIC",
        "outputId": "8e501736-30d3-46dd-d729-e92950a893ff"
      },
      "execution_count": 17,
      "outputs": [
        {
          "output_type": "execute_result",
          "data": {
            "text/plain": [
              "'ACCGGGTTTT'"
            ],
            "application/vnd.google.colaboratory.intrinsic+json": {
              "type": "string"
            }
          },
          "metadata": {},
          "execution_count": 17
        }
      ]
    },
    {
      "cell_type": "code",
      "source": [
        "actualString = \"GGCTGTAAGACCCTAAGCGCAACGCCTGTCTACATTTAGACCCGACACTATGAACGATTGCGGTCCATTTATATTAAAAAACGCTAGATTCGGATAAATATCGAACGAACGAGAGATGTTCCTCTGTTCTTGAGTACATTAAGCAGAAACTAATTCCCGCCGAGACGGCAAGTCTTCATAGCTGCCCGTAATGAGACCAGAGTGCGCACAAACCTCTATTTTTGGCCTAGTTAAGAGCGACTGCGAGAGGCGGTGTCGTGGCTTAGGCTCTGAAGGACGGACAGCAATTAATTCGCGGTTCGTAATATCGCTATCAGATCATAACCTCGAGCCCGCAGGTTAATACATGTACCGCCCCAGTCGAGTAACCTCCTTCGATGGGTCCTGAGGGACTTCAGTCCGCTTGCGCAGACCCAGCCCAAGGTACTGCTGTTAGGAAGACCATCCAGCTCCTGGGTAACCAGTTCCTAAGGATACACGACCTCACGACGCTTAAACTCTCTCTGCTCATCAGGAAATACAGCTTAAAATATGCGCGGATCAGTAGTAACTTCATAGAACAAAGGCTAAGAGACGCACGTACCGAAGGTGTTCTTACGGCAGATATGACACTTAAGACGTTAAGCCGGGAGGATCACCGGGCCGCACAACGTACCGGAGACACTTAGTCTCATGGGGAAGCCAGAGTTGAAATCCGGTTCTGGATCAATTCATCACGCAAACGGCAGATACGATCACCGAAAGAGGCGGCTCCGGGTCATATAATTTCTCTTGTGAGCTGTTATGTACCTCCGTCCAACAACGCCGTCTGACGGGACCTGGCACTTGGAGAACACCAAGGGGTACGGTTGCGTTTTACCTCGACCGACTCATAAGTCATTAAACTTATACAAACAAATGGTATCCTAATGGA\""
      ],
      "metadata": {
        "id": "ln0wUllD_OaJ"
      },
      "execution_count": 18,
      "outputs": []
    },
    {
      "cell_type": "code",
      "source": [
        "complementDNA(actualString)"
      ],
      "metadata": {
        "colab": {
          "base_uri": "https://localhost:8080/",
          "height": 87
        },
        "id": "MRfO0jZ8_bcE",
        "outputId": "b7358936-55ba-415c-99d2-a859e6365d2a"
      },
      "execution_count": 19,
      "outputs": [
        {
          "output_type": "execute_result",
          "data": {
            "text/plain": [
              "'TCCATTAGGATACCATTTGTTTGTATAAGTTTAATGACTTATGAGTCGGTCGAGGTAAAACGCAACCGTACCCCTTGGTGTTCTCCAAGTGCCAGGTCCCGTCAGACGGCGTTGTTGGACGGAGGTACATAACAGCTCACAAGAGAAATTATATGACCCGGAGCCGCCTCTTTCGGTGATCGTATCTGCCGTTTGCGTGATGAATTGATCCAGAACCGGATTTCAACTCTGGCTTCCCCATGAGACTAAGTGTCTCCGGTACGTTGTGCGGCCCGGTGATCCTCCCGGCTTAACGTCTTAAGTGTCATATCTGCCGTAAGAACACCTTCGGTACGTGCGTCTCTTAGCCTTTGTTCTATGAAGTTACTACTGATCCGCGCATATTTTAAGCTGTATTTCCTGATGAGCAGAGAGAGTTTAAGCGTCGTGAGGTCGTGTATCCTTAGGAACTGGTTACCCAGGAGCTGGATGGTCTTCCTAACAGCAGTACCTTGGGCTGGGTCTGCGCAAGCGGACTGAAGTCCCTCAGGACCCATCGAAGGAGGTTACTCGACTGGGGCGGTACATGTATTAACCTGCGGGCTCGAGGTTATGATCTGATAGCGATATTACGAACCGCGAATTAATTGCTGTCCGTCCTTCAGAGCCTAAGCCACGACACCGCCTCTCGCAGTCGCTCTTAACTAGGCCAAAAATAGAGGTTTGTGCGCACTCTGGTCTCATTACGGGCAGCTATGAAGACTTGCCGTCTCGGCGGGAATTAGTTTCTGCTTAATGTACTCAAGAACAGAGGAACATCTCTCGTTCGTTCGATATTTATCCGAATCTAGCGTTTTTTAATATAAATGGACCGCAATCGTTCATAGTGTCGGGTCTAAATGTAGACAGGCGTTGCGCTTAGGGTCTTACAGCC'"
            ],
            "application/vnd.google.colaboratory.intrinsic+json": {
              "type": "string"
            }
          },
          "metadata": {},
          "execution_count": 19
        }
      ]
    }
  ]
}