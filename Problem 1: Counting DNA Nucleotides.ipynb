{
  "nbformat": 4,
  "nbformat_minor": 0,
  "metadata": {
    "colab": {
      "name": "Untitled0.ipynb",
      "provenance": []
    },
    "kernelspec": {
      "name": "python3",
      "display_name": "Python 3"
    },
    "language_info": {
      "name": "python"
    }
  },
  "cells": [
    {
      "cell_type": "markdown",
      "source": [
        "# Problem 1: Counting DNA Nucleotides \n",
        "A string is simply an ordered collection of symbols selected from some alphabet and formed into a word; the length of a string is the number of symbols that it contains.\n",
        "\n",
        "An example of a length 21 DNA string (whose alphabet contains the symbols 'A', 'C', 'G', and 'T') is \"ATGCTTCAGAAAGGTCTTACG.\"\n",
        "\n",
        "Given: A DNA string s of length at most 1000 nt.\n",
        "\n",
        "Return: Four integers (separated by spaces) counting the respective number of times that the symbols 'A', 'C', 'G', and 'T' occur in s.\n",
        "\n",
        "Sample Dataset \\\n",
        "> AGCTTTTCATTCTGACTGCAACGGGCAATATGTCTCTGTGTGGATTAAAAAAAGAGTGTCTGATAGCAGC \\\n",
        "\n",
        "Sample Output \\\n",
        "> 20 12 17 21"
      ],
      "metadata": {
        "id": "hAcsR9EB-pRD"
      }
    },
    {
      "cell_type": "code",
      "source": [
        "testString = \"AGCTTTTCATTCTGACTGCAACGGGCAATATGTCTCTGTGTGGATTAAAAAAAGAGTGTCTGATAGCAGC\""
      ],
      "metadata": {
        "id": "Brwphwex-qoT"
      },
      "execution_count": 1,
      "outputs": []
    },
    {
      "cell_type": "code",
      "source": [
        "def countDNANucleotides(input_seq):\n",
        "    # Count each base and print the results\n",
        "    print(input_seq.count('A'), input_seq.count('C'),input_seq.count('G'),input_seq.count('T'))"
      ],
      "metadata": {
        "id": "JguiRbIR-8bj"
      },
      "execution_count": 6,
      "outputs": []
    },
    {
      "cell_type": "code",
      "source": [
        "countDNANucleotides(testString)"
      ],
      "metadata": {
        "colab": {
          "base_uri": "https://localhost:8080/"
        },
        "id": "TbnyW_fo_AIC",
        "outputId": "fb60fd9b-95c1-451f-94da-5b7a98a36a88"
      },
      "execution_count": 7,
      "outputs": [
        {
          "output_type": "stream",
          "name": "stdout",
          "text": [
            "20 12 17 21\n"
          ]
        }
      ]
    },
    {
      "cell_type": "code",
      "source": [
        "actualString = \"AGCCGGCTCGTTGGACCTTACTATCGTTCCTAACTGAGCGGAGGTCGGTGAACTTCCTTTCTCGGGAATATTTTCTACACTATTTCTGGTCGATGTGCCGTGTGCGTATTCAGAAAGTCGCAGTTCACGACTGAGGCGGTCAGAGGCAAAGATCCTTCGCACGCGTTTCGGCTAAGTGCCGGTATATTCTTTCCGGGAGGCATGTGTTAAATCCCCCAAAGAAGTATTTGCAACAGGCAATATGTGGAGAACGGCACACTTAACTGCTAGCCTGTACTTACGTACGTCCTAAGCCAGTGTCTCATCTGGCGGCCTTTGCTCCTCCAAGGACAATAACCGCAGGAAGGTGCTCGCAGGAAGGCTTGAAATAAAAGGACGTCACTAGTCTTGGGAATCATCTAGTACCGCACTTATTACTGAACCCGACAACCAGTGGTATAACTCTGGCTCAAGACGAGCCCCCCAGTATTTTCGAGCACTAGAGGGGACTCCTAATAAAGTCATGGGTGACAGATTCGGATGAATCCATTCTTAACTCTAAAGGCGTCGTCCCTTTATAGGTGCGACCCCATCTCATTCCCTCTGTTCATGTTAGAGTTTCGTCCCCACCAGTTCTGGGAGGCGAAATTGATGGCAACTAAAATTCATTTGGGAGAGCATGTGCGCGTTCGAATAGTTGGGCTTAACTATTTGGCCAAGGCTTAGCGGCCGTTGCTCCACAACAAGATATAACACCATACCGTCGCCAGGCTAGGGATTACTTGTTGGGCGAGAACTGCTGAGATATAGTTCCCTTTGAAACATCCAGGACTAGTCCGAGATTTCGTTCTTCATGTCGTGCACACGGGGCCCATCTCGGGTTTGACGGGTCAACAGATCTGTTAGCCACCC\""
      ],
      "metadata": {
        "id": "ln0wUllD_OaJ"
      },
      "execution_count": 8,
      "outputs": []
    },
    {
      "cell_type": "code",
      "source": [
        "countDNANucleotides(actualString)"
      ],
      "metadata": {
        "id": "MRfO0jZ8_bcE",
        "outputId": "81d2d991-de6a-4f5c-94b6-1749ea7a2808",
        "colab": {
          "base_uri": "https://localhost:8080/"
        }
      },
      "execution_count": 9,
      "outputs": [
        {
          "output_type": "stream",
          "name": "stdout",
          "text": [
            "215 222 220 234\n"
          ]
        }
      ]
    }
  ]
}
