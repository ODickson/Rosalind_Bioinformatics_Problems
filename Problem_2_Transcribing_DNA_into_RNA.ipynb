{
  "nbformat": 4,
  "nbformat_minor": 0,
  "metadata": {
    "colab": {
      "name": "Problem 2: Transcribing DNA into RNA.ipynb",
      "provenance": []
    },
    "kernelspec": {
      "name": "python3",
      "display_name": "Python 3"
    },
    "language_info": {
      "name": "python"
    }
  },
  "cells": [
    {
      "cell_type": "markdown",
      "source": [
        "# Problem 2: Transcribing DNA into RNA\n",
        "\n",
        "An RNA string is a string formed from the alphabet containing 'A', 'C', 'G', and 'U'.\n",
        "\n",
        "Given a DNA string t corresponding to a coding strand, its transcribed RNA string u is formed by replacing all occurrences of 'T' in t with 'U' in u.\n",
        "\n",
        "Given: A DNA string t having length at most 1000 nt.\n",
        "\n",
        "Return: The transcribed RNA string of t.\n",
        "\n",
        "Sample Dataset \\\n",
        "> GATGGAACTTGACTACGTAAATT \\\n",
        "\n",
        "> Sample Output \\\n",
        "GAUGGAACUUGACUACGUAAAUU "
      ],
      "metadata": {
        "id": "hAcsR9EB-pRD"
      }
    },
    {
      "cell_type": "code",
      "source": [
        "testString = \"GATGGAACTTGACTACGTAAATT\""
      ],
      "metadata": {
        "id": "Brwphwex-qoT"
      },
      "execution_count": 10,
      "outputs": []
    },
    {
      "cell_type": "code",
      "source": [
        "def transcribeDNAtoRNA(sequence):\n",
        "    # a simple repace of T to U is required\n",
        "    return sequence.replace(\"T\",\"U\")"
      ],
      "metadata": {
        "id": "JguiRbIR-8bj"
      },
      "execution_count": 11,
      "outputs": []
    },
    {
      "cell_type": "code",
      "source": [
        "transcribeDNAtoRNA(testString)"
      ],
      "metadata": {
        "colab": {
          "base_uri": "https://localhost:8080/",
          "height": 35
        },
        "id": "TbnyW_fo_AIC",
        "outputId": "95b7c8a4-a5b5-4080-eb0b-bfa0c0d7a101"
      },
      "execution_count": 12,
      "outputs": [
        {
          "output_type": "execute_result",
          "data": {
            "text/plain": [
              "'GAUGGAACUUGACUACGUAAAUU'"
            ],
            "application/vnd.google.colaboratory.intrinsic+json": {
              "type": "string"
            }
          },
          "metadata": {},
          "execution_count": 12
        }
      ]
    },
    {
      "cell_type": "code",
      "source": [
        "actualString = \"TGCCGTTTAACAGAAGGGCTACCTTTTGCTAGCCAGATACGTGGAGACTGTGTCTCACAATCGCTATCACTATCCGCTTACACCACGGTCAATCAGCATACGGGGAAGCGCGAGTTGTTGTTGACCTAATCGGGCCCCATGTATGACTCGATAAATTGCAGTACTTTTAAGTGACCAGGAGCGCCTCGCAAGCAGTGAGACCACTACCGCTATACGGCACGTGTGTGTCGTATCGGTTGCCGTTTGTGGTAGAAGAGCAGGAGTGGATCATATACTCACGCGTCGGATGAGGCCTTCGCTAGGGAAACCGACCTTACCTTTGTATCATATGATGCCCAAGTCACTGAGAGTGTATAAGGCATGTCCGGGAGTTCTCCGTCGGTTGGTTCATGCTCCGGGCAGTCCAACATGTCTATTCTCCCTGACCATTTATTCATCGGCTGACTTGTGCCGACGTCCATTAACCCGAGATGCGACAAATATTGTAATGTCCCTCTAGAGACGGAGTACTAACACGTACATGTAAACTCCTTTATTTCACTAGTGGATAAAGTCACGTTTTTCTCTGGAGTAATATTGCCATCGCGTGGTGATGTGGACCGTGACAAGACCACGAGATCCAAAGGTTTAATCCTTTGAGAGCTGTGTAGCCTAGGCGTGGTGTGCTGTGACGTCCGACATATGTATCATTAAATGGAAACGCTTGTGAAGCTATGTCGTCACCCCACGTTATCCAGTAGCGACTAGCGGACCCCCCACTGGACAGTGTGAAGCTCCTTCGGGCGGAGGTGACATTGGCCTATTTGAGTAGCCCTCTGGGGGGATCGTCCGCGTGGCAAGATAAACTTATTTTTTACTATGGGATGAGAGTGTTAGCCATGCCTAGGACCATAAATTTAGAGTTCTCAACCGCTTTTCTAGCCGAAGCCCAGGTTGTCATAGTGGTGTGTCTGTATCGACAGACACGTA\""
      ],
      "metadata": {
        "id": "ln0wUllD_OaJ"
      },
      "execution_count": 13,
      "outputs": []
    },
    {
      "cell_type": "code",
      "source": [
        "transcribeDNAtoRNA(actualString)"
      ],
      "metadata": {
        "colab": {
          "base_uri": "https://localhost:8080/",
          "height": 105
        },
        "id": "MRfO0jZ8_bcE",
        "outputId": "51db71db-5c34-48ed-b459-cfc4ecbb80a0"
      },
      "execution_count": 14,
      "outputs": [
        {
          "output_type": "execute_result",
          "data": {
            "text/plain": [
              "'UGCCGUUUAACAGAAGGGCUACCUUUUGCUAGCCAGAUACGUGGAGACUGUGUCUCACAAUCGCUAUCACUAUCCGCUUACACCACGGUCAAUCAGCAUACGGGGAAGCGCGAGUUGUUGUUGACCUAAUCGGGCCCCAUGUAUGACUCGAUAAAUUGCAGUACUUUUAAGUGACCAGGAGCGCCUCGCAAGCAGUGAGACCACUACCGCUAUACGGCACGUGUGUGUCGUAUCGGUUGCCGUUUGUGGUAGAAGAGCAGGAGUGGAUCAUAUACUCACGCGUCGGAUGAGGCCUUCGCUAGGGAAACCGACCUUACCUUUGUAUCAUAUGAUGCCCAAGUCACUGAGAGUGUAUAAGGCAUGUCCGGGAGUUCUCCGUCGGUUGGUUCAUGCUCCGGGCAGUCCAACAUGUCUAUUCUCCCUGACCAUUUAUUCAUCGGCUGACUUGUGCCGACGUCCAUUAACCCGAGAUGCGACAAAUAUUGUAAUGUCCCUCUAGAGACGGAGUACUAACACGUACAUGUAAACUCCUUUAUUUCACUAGUGGAUAAAGUCACGUUUUUCUCUGGAGUAAUAUUGCCAUCGCGUGGUGAUGUGGACCGUGACAAGACCACGAGAUCCAAAGGUUUAAUCCUUUGAGAGCUGUGUAGCCUAGGCGUGGUGUGCUGUGACGUCCGACAUAUGUAUCAUUAAAUGGAAACGCUUGUGAAGCUAUGUCGUCACCCCACGUUAUCCAGUAGCGACUAGCGGACCCCCCACUGGACAGUGUGAAGCUCCUUCGGGCGGAGGUGACAUUGGCCUAUUUGAGUAGCCCUCUGGGGGGAUCGUCCGCGUGGCAAGAUAAACUUAUUUUUUACUAUGGGAUGAGAGUGUUAGCCAUGCCUAGGACCAUAAAUUUAGAGUUCUCAACCGCUUUUCUAGCCGAAGCCCAGGUUGUCAUAGUGGUGUGUCUGUAUCGACAGACACGUA'"
            ],
            "application/vnd.google.colaboratory.intrinsic+json": {
              "type": "string"
            }
          },
          "metadata": {},
          "execution_count": 14
        }
      ]
    }
  ]
}