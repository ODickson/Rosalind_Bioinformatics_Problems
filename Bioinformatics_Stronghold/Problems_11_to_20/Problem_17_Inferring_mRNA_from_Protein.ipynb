{
  "nbformat": 4,
  "nbformat_minor": 0,
  "metadata": {
    "colab": {
      "name": "Problem 17: Inferring mRNA from Protein",
      "provenance": []
    },
    "kernelspec": {
      "name": "python3",
      "display_name": "Python 3"
    },
    "language_info": {
      "name": "python"
    }
  },
  "cells": [
    {
      "cell_type": "markdown",
      "source": [
        "# Problem 17: Inferring mRNA from Protein\n",
        "Problem\n",
        "For positive integers a and n, a modulo n (written amodn in shorthand) is the remainder when a is divided by n. For example, 29mod11=7 because 29=11×2+7.\n",
        "\n",
        "Modular arithmetic is the study of addition, subtraction, multiplication, and division with respect to the modulo operation. We say that a and b are congruent modulo n if amodn=bmodn; in this case, we use the notation a≡bmodn.\n",
        "\n",
        "Two useful facts in modular arithmetic are that if a≡bmodn and c≡dmodn, then a+c≡b+dmodn and a×c≡b×dmodn. To check your understanding of these rules, you may wish to verify these relationships for a=29, b=73, c=10, d=32, and n=11.\n",
        "\n",
        "As you will see in this exercise, some Rosalind problems will ask for a (very large) integer solution modulo a smaller number to avoid the computational pitfalls that arise with storing such large numbers.\n",
        "\n",
        "Given: A protein string of length at most 1000 aa.\n",
        "\n",
        "Return: The total number of different RNA strings from which the protein could have been translated, modulo 1,000,000. (Don't neglect the importance of the stop codon in protein translation.)\n",
        "\n",
        "Sample Dataset\n",
        ">MA\n",
        "\n",
        "Sample Output\n",
        ">12"
      ],
      "metadata": {
        "id": "hAcsR9EB-pRD"
      }
    },
    {
      "cell_type": "code",
      "source": [
        "codons = \"\"\"UUU:F\\nCUU:L\\nAUU:I\\nGUU:V\n",
        "UUC:F\\nCUC:L\\nAUC:I\\nGUC:V\n",
        "UUA:L\\nCUA:L\\nAUA:I\\nGUA:V\n",
        "UUG:L\\nCUG:L\\nAUG:M\\nGUG:V\n",
        "UCU:S\\nCCU:P\\nACU:T\\nGCU:A\n",
        "UCC:S\\nCCC:P\\nACC:T\\nGCC:A\n",
        "UCA:S\\nCCA:P\\nACA:T\\nGCA:A\n",
        "UCG:S\\nCCG:P\\nACG:T\\nGCG:A\n",
        "UAU:Y\\nCAU:H\\nAAU:N\\nGAU:D\n",
        "UAC:Y\\nCAC:H\\nAAC:N\\nGAC:D\n",
        "UAA:Stop\\nCAA:Q\\nAAA:K\\nGAA:E\n",
        "UAG:Stop\\nCAG:Q\\nAAG:K\\nGAG:E\n",
        "UGU:C\\nCGU:R\\nAGU:S\\nGGU:G\n",
        "UGC:C\\nCGC:R\\nAGC:S\\nGGC:G\n",
        "UGA:Stop\\nCGA:R\\nAGA:R\\nGGA:G\n",
        "UGG:W\\nCGG:R\\nAGG:R\\nGGG:G\"\"\"\n",
        "\n",
        "codon_dict = {}\n",
        "for x in codons.split(\"\\n\"):\n",
        "    temp = x.split(\":\")\n",
        "    if temp[1] not in list(codon_dict.keys()):\n",
        "        codon_dict[temp[1]] = [temp[0]]\n",
        "    else:\n",
        "        codon_dict[temp[1]] = codon_dict[temp[1]] + [temp[0]]"
      ],
      "metadata": {
        "id": "JguiRbIR-8bj"
      },
      "execution_count": 33,
      "outputs": []
    },
    {
      "cell_type": "code",
      "source": [
        "def inferRNA(protienSeq):\n",
        "    posibleSeq = 1\n",
        "    for prot in protienSeq:\n",
        "        posibleSeq = posibleSeq * len(codon_dict[prot])\n",
        "    return posibleSeq * 3 % 1000000"
      ],
      "metadata": {
        "id": "ZhykcfIWpZgF"
      },
      "execution_count": 34,
      "outputs": []
    },
    {
      "cell_type": "code",
      "source": [
        "inferRNA(\"MA\")"
      ],
      "metadata": {
        "colab": {
          "base_uri": "https://localhost:8080/"
        },
        "id": "zK1Fx4wppgLH",
        "outputId": "142c26a3-c724-4b54-fc5c-9981c6e9af21"
      },
      "execution_count": 35,
      "outputs": [
        {
          "output_type": "execute_result",
          "data": {
            "text/plain": [
              "12"
            ]
          },
          "metadata": {},
          "execution_count": 35
        }
      ]
    },
    {
      "cell_type": "code",
      "source": [
        "actualInput = \"MQSPWAWYSMKELVGHILNPSEVGYRYCALYDCCRMYVGAHFLVAITWESQHEKNLYKGLWPWQLICHASSQQMMGFFPEPVDVFVEDQQDEMHAPHNENALLMGTWSSNQYVTNKLWDALMHKDQIKPPMWPGPEWFDWWASEGCMMFQSFLKQMMRWVRSPWIENLIYPLHRIWANDLCCFRMHWKGDERDPDFMLDTRWSYYVARLLNMKCKTTLWNCWRGTRCYWFNHPVMVRYYRHRLPHPDIQRGDKMCDYTPRAAWYASKHEFMRCEAGMYPLCYMKPYDWSTHDWRDWTSVDLCVGWQRHHHTNELYESGCQTEWRSPTLFDYNCPVYSNPFNFGPKACKKEWDTRHQRNWWPFRDNIGRGTCDFSFVGSRDRMWGCCMTSMIWVFPDPWCGTVFMMKTQFYQTSGFCKENYRKMDLMLGYHLTYPASCMGVYFHVEYPTPAHRRKMWAMAYTHCFQTKNLVVLHWENSGKVAPLHPVADFVCLELPDVQETLEPIARTCHMMFILKFGCNMTNDTPSIRWEEIAIYDIRWKFGMVTFQIPIYLPGAPPVEDSYMRMRFLPYKHEDQYPKVFSGKMQSKMHSMQVGWGEFVHVWCHWRKPMMAKHAGYAEAATGLNWMFYQKRPHFIFIQLEAADKEGCAPCLNLCYYGVYPCDYMGGWWHVMSEQWEVKKFRQDQLMEPKMKKENWDHHHMGHGWAWQCICEWPANDGEARKMDFGFPYTYWWIFKYYILKASHNHKGAITFFNIQCADHKDCIHCQHSLPAEHYLMHVKIQRSGQSNVMQDNIKLPLHYDHMINACYFAMPYCGDTFRMADPWCDDEMVISGEDQDIWYGQNMPIMDRMMKNPDKCGKGSCCIFHDFMTVACHNNRHQYNNTRDMLPVNHTHMHAHTKEHPHRFYFHPDVHMCCEPHDSCKSNALELHNDHTMMGINEIQLFGAMLILWLIPGLKSCCNQYGYGSMIYCEDIDGQLATATWMVTWGMPYQEDIPWMPE\""
      ],
      "metadata": {
        "id": "ATHrD6viqmtO"
      },
      "execution_count": 36,
      "outputs": []
    },
    {
      "cell_type": "code",
      "source": [
        "inferRNA(actualInput)"
      ],
      "metadata": {
        "colab": {
          "base_uri": "https://localhost:8080/"
        },
        "id": "cGH6yBa9qrDJ",
        "outputId": "91e84c08-bbf7-43cc-968f-9a40fac9e297"
      },
      "execution_count": 37,
      "outputs": [
        {
          "output_type": "execute_result",
          "data": {
            "text/plain": [
              "715776"
            ]
          },
          "metadata": {},
          "execution_count": 37
        }
      ]
    }
  ]
}