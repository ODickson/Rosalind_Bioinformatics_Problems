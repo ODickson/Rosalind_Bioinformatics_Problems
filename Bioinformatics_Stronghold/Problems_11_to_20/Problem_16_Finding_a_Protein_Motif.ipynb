{
  "nbformat": 4,
  "nbformat_minor": 0,
  "metadata": {
    "colab": {
      "name": "Problem 16: Finding a Protein Motif",
      "provenance": []
    },
    "kernelspec": {
      "name": "python3",
      "display_name": "Python 3"
    },
    "language_info": {
      "name": "python"
    }
  },
  "cells": [
    {
      "cell_type": "markdown",
      "source": [
        "# Problem 16: Finding a Protein Motif\n",
        "\n",
        "To allow for the presence of its varying forms, a protein motif is represented by a shorthand as follows: [XY] means \"either X or Y\" and {X} means \"any amino acid except X.\" For example, the N-glycosylation motif is written as N{P}[ST]{P}.\n",
        "\n",
        "You can see the complete description and features of a particular protein by its access ID \"uniprot_id\" in the UniProt database, by inserting the ID number into\n",
        "\n",
        "http://www.uniprot.org/uniprot/uniprot_id \\\n",
        "Alternatively, you can obtain a protein sequence in FASTA format by following\n",
        "\n",
        "http://www.uniprot.org/uniprot/uniprot_id.fasta \\\n",
        "For example, the data for protein B5ZC00 can be found at http://www.uniprot.org/uniprot/B5ZC00.\n",
        "\n",
        "Given: At most 15 UniProt Protein Database access IDs.\n",
        "\n",
        "Return: For each protein possessing the N-glycosylation motif, output its given access ID followed by a list of locations in the protein string where the motif can be found.\n",
        "\n",
        "Sample Dataset\n",
        ">A2Z669 \\\n",
        "B5ZC00 \\\n",
        "P07204_TRBM_HUMAN \\\n",
        "P20840_SAG1_YEAST\n",
        "\n",
        "Sample Output\n",
        ">B5ZC00 \\\n",
        "85 118 142 306 395 \\\n",
        "P07204_TRBM_HUMAN \\\n",
        "47 115 116 382 409 \\\n",
        "P20840_SAG1_YEAST \\\n",
        "79 109 135 248 306 348 364 402 485 501 614"
      ],
      "metadata": {
        "id": "hAcsR9EB-pRD"
      }
    },
    {
      "cell_type": "code",
      "source": [
        "import requests\n",
        "def getSequence(uniprotID):\n",
        "    target_url = \"https://rest.uniprot.org/uniprot/{uniprotID}.fasta\".format(uniprotID = uniprotID)\n",
        "    data = requests.get(target_url)\n",
        "    # print(target_url)\n",
        "    return data.text.split('\\n',1)[1].replace('\\n',\"\")\n",
        "    \n",
        "def findNGlycosylationMotif(sequence):\n",
        "    locations = []\n",
        "    for i, aminoAcid in enumerate(sequence):\n",
        "        if aminoAcid == 'N' and i < len(sequence)-2:\n",
        "            if sequence[i+1] != 'P':\n",
        "                if sequence[i+2] == 'S' or sequence[i+2] == 'T':\n",
        "                    if sequence[i+3] != 'P':\n",
        "                        locations.append(i+1)\n",
        "    return locations\n",
        "            \n",
        "def findMotives(uniprotIds):\n",
        "    uniprotIds = uniprotIds.split(\"\\n\")\n",
        "    for prot in uniprotIds:\n",
        "        protienID = prot.split(\"_\")[0]\n",
        "        res =str(findNGlycosylationMotif(getSequence(protienID)))\n",
        "        res = res.replace(\",\",\"\").replace('[',\"\").replace(']',\"\")\n",
        "        if len(res) >0:\n",
        "            print(prot)\n",
        "            print(res)"
      ],
      "metadata": {
        "id": "JguiRbIR-8bj"
      },
      "execution_count": 26,
      "outputs": []
    },
    {
      "cell_type": "code",
      "source": [
        "testInput = \"\"\"A2Z669\n",
        "B5ZC00\n",
        "P07204_TRBM_HUMAN\n",
        "P20840_SAG1_YEAST\"\"\""
      ],
      "metadata": {
        "id": "ZhykcfIWpZgF"
      },
      "execution_count": 30,
      "outputs": []
    },
    {
      "cell_type": "code",
      "source": [
        "findMotives(testInput)"
      ],
      "metadata": {
        "colab": {
          "base_uri": "https://localhost:8080/"
        },
        "id": "zK1Fx4wppgLH",
        "outputId": "7bc9d746-b6a9-4db3-9a10-15015eb0db64"
      },
      "execution_count": 31,
      "outputs": [
        {
          "output_type": "stream",
          "name": "stdout",
          "text": [
            "B5ZC00\n",
            "85 118 142 306 395\n",
            "P07204_TRBM_HUMAN\n",
            "47 115 116 382 409\n",
            "P20840_SAG1_YEAST\n",
            "79 109 135 248 306 348 364 402 485 501 614\n"
          ]
        }
      ]
    },
    {
      "cell_type": "code",
      "source": [
        "actualInput = \"\"\"P81428_FA10_TROCA\n",
        "P01044_KNH1_BOVIN\n",
        "A1TJ10\n",
        "P40225_TPO_HUMAN\n",
        "Q5WFN0\n",
        "P00750_UROT_HUMAN\n",
        "P25174\n",
        "B3PYU7\n",
        "B4U0J5\n",
        "Q00001_RHGA_ASPAC\n",
        "Q03745\n",
        "P00740_FA9_HUMAN\n",
        "P02749_APOH_HUMAN\n",
        "A5A3H2\"\"\""
      ],
      "metadata": {
        "id": "jen8CXCGocfT"
      },
      "execution_count": 28,
      "outputs": []
    },
    {
      "cell_type": "code",
      "source": [
        "findMotives(actualInput)"
      ],
      "metadata": {
        "colab": {
          "base_uri": "https://localhost:8080/"
        },
        "id": "M6SM-9Z2oVho",
        "outputId": "e9286f1c-3960-405d-d1ea-9a07a9fa60f2"
      },
      "execution_count": 29,
      "outputs": [
        {
          "output_type": "stream",
          "name": "stdout",
          "text": [
            "P81428_FA10_TROCA\n",
            "254\n",
            "P01044_KNH1_BOVIN\n",
            "47 87 168 169 197 204\n",
            "A1TJ10\n",
            "86 251\n",
            "P40225_TPO_HUMAN\n",
            "197 206 234 255 340 348\n",
            "P00750_UROT_HUMAN\n",
            "152 219 483\n",
            "P25174\n",
            "17 32 56 97 116 132 151 178 183 198 325 670\n",
            "Q00001_RHGA_ASPAC\n",
            "50 235 317\n",
            "Q03745\n",
            "272 438 506 509 550 1043 1096\n",
            "P00740_FA9_HUMAN\n",
            "203 213\n",
            "P02749_APOH_HUMAN\n",
            "162 183 193 253\n"
          ]
        }
      ]
    }
  ]
}