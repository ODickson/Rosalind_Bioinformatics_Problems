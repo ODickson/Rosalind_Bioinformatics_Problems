{
  "nbformat": 4,
  "nbformat_minor": 0,
  "metadata": {
    "colab": {
      "name": "Problem 13: Calculating Expected Offspring",
      "provenance": []
    },
    "kernelspec": {
      "name": "python3",
      "display_name": "Python 3"
    },
    "language_info": {
      "name": "python"
    }
  },
  "cells": [
    {
      "cell_type": "markdown",
      "source": [
        "# Problem 13: Calculating Expected Offspring\n",
        "For a random variable X taking integer values between 1 and n, the expected value of X is E(X)=∑nk=1k×Pr(X=k). The expected value offers us a way of taking the long-term average of a random variable over a large number of trials.\n",
        "\n",
        "As a motivating example, let X be the number on a six-sided die. Over a large number of rolls, we should expect to obtain an average of 3.5 on the die (even though it's not possible to roll a 3.5). The formula for expected value confirms that E(X)=∑6k=1k×Pr(X=k)=3.5.\n",
        "\n",
        "More generally, a random variable for which every one of a number of equally spaced outcomes has the same probability is called a uniform random variable (in the die example, this \"equal spacing\" is equal to 1). We can generalize our die example to find that if X is a uniform random variable with minimum possible value a and maximum possible value b, then E(X)=a+b2. You may also wish to verify that for the dice example, if Y is the random variable associated with the outcome of a second die roll, then E(X+Y)=7.\n",
        "\n",
        "Given: Six nonnegative integers, each of which does not exceed 20,000. The integers correspond to the number of couples in a population possessing each genotype pairing for a given factor. In order, the six given integers represent the number of couples having the following genotypes:\n",
        "\n",
        "AA-AA\\\n",
        "AA-Aa\\\n",
        "AA-aa\\\n",
        "Aa-Aa\\\n",
        "Aa-aa\\\n",
        "aa-aa\n",
        "\n",
        "Return: The expected number of offspring displaying the dominant phenotype in the next generation, under the assumption that every couple has exactly two offspring.\n",
        "\n",
        "Sample Dataset\n",
        ">1 0 0 1 0 1\n",
        "\n",
        "Sample Output\n",
        "> 3.5"
      ],
      "metadata": {
        "id": "hAcsR9EB-pRD"
      }
    },
    {
      "cell_type": "code",
      "source": [
        "def expectedNumberOfDominance(populationList):\n",
        "    totalDominantPhenotype = 0\n",
        "    \n",
        "    # AA-AA --> 100% Dominant\n",
        "    totalDominantPhenotype += populationList[0] * 2\n",
        "    \n",
        "    # AA-Aa --> 100% Dominant\n",
        "    totalDominantPhenotype += populationList[1] * 2\n",
        "    \n",
        "    # AA-aa --> 100% Dominant\n",
        "    totalDominantPhenotype += populationList[2] * 2\n",
        "    \n",
        "    # Aa-Aa --> 75% Dominant\n",
        "    totalDominantPhenotype += populationList[3] * 2 * 0.75\n",
        "    \n",
        "    # Aa-aa --> 50% Dominant\n",
        "    totalDominantPhenotype += populationList[4] * 2 * 0.5\n",
        "    \n",
        "    return totalDominantPhenotype"
      ],
      "metadata": {
        "id": "JguiRbIR-8bj"
      },
      "execution_count": 10,
      "outputs": []
    },
    {
      "cell_type": "code",
      "source": [
        "testList = [1, 0, 0, 1, 0, 1]\n",
        "expectedNumberOfDominance(testList)"
      ],
      "metadata": {
        "colab": {
          "base_uri": "https://localhost:8080/"
        },
        "id": "kJ5rm5vkkqft",
        "outputId": "63a6a687-ecb0-448e-c378-af0096291f75"
      },
      "execution_count": 11,
      "outputs": [
        {
          "output_type": "execute_result",
          "data": {
            "text/plain": [
              "3.5"
            ]
          },
          "metadata": {},
          "execution_count": 11
        }
      ]
    },
    {
      "cell_type": "code",
      "source": [
        "actualList = [18562, 18346, 19558, 19525, 17146, 17887]\n",
        "expectedNumberOfDominance(actualList)"
      ],
      "metadata": {
        "colab": {
          "base_uri": "https://localhost:8080/"
        },
        "id": "KcSEhj85k2PW",
        "outputId": "57fb0c13-64ce-411e-c120-a18e51934507"
      },
      "execution_count": 12,
      "outputs": [
        {
          "output_type": "execute_result",
          "data": {
            "text/plain": [
              "159365.5"
            ]
          },
          "metadata": {},
          "execution_count": 12
        }
      ]
    }
  ]
}