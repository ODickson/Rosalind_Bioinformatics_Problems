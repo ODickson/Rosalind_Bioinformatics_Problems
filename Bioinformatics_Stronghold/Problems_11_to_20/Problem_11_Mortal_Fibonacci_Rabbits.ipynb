{
  "nbformat": 4,
  "nbformat_minor": 0,
  "metadata": {
    "colab": {
      "name": "Problem 11: Mortal Fibonacci Rabbits.ipynb",
      "provenance": []
    },
    "kernelspec": {
      "name": "python3",
      "display_name": "Python 3"
    },
    "language_info": {
      "name": "python"
    }
  },
  "cells": [
    {
      "cell_type": "markdown",
      "source": [
        "# Problem 11: Mortal Fibonacci Rabbits\n",
        "Recall the definition of the Fibonacci numbers from “Rabbits and Recurrence Relations”, which followed the recurrence relation Fn=Fn−1+Fn−2 and assumed that each pair of rabbits reaches maturity in one month and produces a single pair of offspring (one male, one female) each subsequent month.\n",
        "\n",
        "Our aim is to somehow modify this recurrence relation to achieve a dynamic programming solution in the case that all rabbits die out after a fixed number of months. See Figure 4 for a depiction of a rabbit tree in which rabbits live for three months (meaning that they reproduce only twice before dying).\n",
        "\n",
        "Given: Positive integers n≤100 and m≤20.\n",
        "\n",
        "Return: The total number of pairs of rabbits that will remain after the n-th month if all rabbits live for m months.\n",
        "\n",
        "Sample Dataset\n",
        ">6 3\n",
        "\n",
        "Sample Output\n",
        ">4"
      ],
      "metadata": {
        "id": "hAcsR9EB-pRD"
      }
    },
    {
      "cell_type": "code",
      "source": [
        "def mortFibRabits(nthMonth,lifeTime):\n",
        "    children = 1\n",
        "    adult = 0\n",
        "    total = 1\n",
        "    toDie = [1]\n",
        "    deaths = 0\n",
        "    # print({'month':1,'numAdults':adult,'numChildren':children,'numDeaths':deaths,'totalAlive':total})\n",
        "    \n",
        "    for i in range(0,nthMonth-1):\n",
        "        new_children = adult \n",
        "\n",
        "\n",
        "        deaths = 0\n",
        "        if i+1 >= lifeTime:\n",
        "            deaths = toDie[0]\n",
        "            adult += - toDie[0]\n",
        "            del toDie[0]\n",
        "        new_adults = children\n",
        "        adult += new_adults\n",
        "        children = new_children\n",
        "        total = adult + children\n",
        "        toDie.append(new_children)\n",
        "        total = adult + children\n",
        "        # print({'month':i+2,'numAdults':adult,'numChildren':children,'numDeaths':deaths,'totalAlive':total})\n",
        "    return total\n",
        "               "
      ],
      "metadata": {
        "id": "JguiRbIR-8bj"
      },
      "execution_count": 3,
      "outputs": []
    },
    {
      "cell_type": "code",
      "source": [
        "mortFibRabits(6, 3)"
      ],
      "metadata": {
        "colab": {
          "base_uri": "https://localhost:8080/"
        },
        "id": "NGW13sgikGTO",
        "outputId": "93f1a995-0d4b-467a-85e9-327b0ea239ad"
      },
      "execution_count": 2,
      "outputs": [
        {
          "output_type": "stream",
          "name": "stdout",
          "text": [
            "{'month': 1, 'numAdults': 0, 'numChildren': 1, 'numDeaths': 0, 'totalAlive': 1}\n",
            "{'month': 2, 'numAdults': 1, 'numChildren': 0, 'numDeaths': 0, 'totalAlive': 1}\n",
            "{'month': 3, 'numAdults': 1, 'numChildren': 1, 'numDeaths': 0, 'totalAlive': 2}\n",
            "{'month': 4, 'numAdults': 1, 'numChildren': 1, 'numDeaths': 1, 'totalAlive': 2}\n",
            "{'month': 5, 'numAdults': 2, 'numChildren': 1, 'numDeaths': 0, 'totalAlive': 3}\n",
            "{'month': 6, 'numAdults': 2, 'numChildren': 2, 'numDeaths': 1, 'totalAlive': 4}\n"
          ]
        },
        {
          "output_type": "execute_result",
          "data": {
            "text/plain": [
              "4"
            ]
          },
          "metadata": {},
          "execution_count": 2
        }
      ]
    },
    {
      "cell_type": "code",
      "source": [
        "mortFibRabits(83, 19)"
      ],
      "metadata": {
        "colab": {
          "base_uri": "https://localhost:8080/"
        },
        "id": "RVTRccKfjuGF",
        "outputId": "4586b53f-72ed-4762-f2e1-da37743ea85b"
      },
      "execution_count": 4,
      "outputs": [
        {
          "output_type": "execute_result",
          "data": {
            "text/plain": [
              "98882928497398660"
            ]
          },
          "metadata": {},
          "execution_count": 4
        }
      ]
    }
  ]
}