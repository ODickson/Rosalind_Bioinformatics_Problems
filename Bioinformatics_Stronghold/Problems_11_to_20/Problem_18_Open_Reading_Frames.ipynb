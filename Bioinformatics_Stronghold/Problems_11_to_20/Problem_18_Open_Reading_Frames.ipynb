{
  "nbformat": 4,
  "nbformat_minor": 0,
  "metadata": {
    "colab": {
      "name": "Problem 18: Open Reading Frames",
      "provenance": []
    },
    "kernelspec": {
      "name": "python3",
      "display_name": "Python 3"
    },
    "language_info": {
      "name": "python"
    }
  },
  "cells": [
    {
      "cell_type": "markdown",
      "source": [
        "# Problem 18: Open Reading Frames\n",
        "Either strand of a DNA double helix can serve as the coding strand for RNA transcription. Hence, a given DNA string implies six total reading frames, or ways in which the same region of DNA can be translated into amino acids: three reading frames result from reading the string itself, whereas three more result from reading its reverse complement.\n",
        "\n",
        "An open reading frame (ORF) is one which starts from the start codon and ends by stop codon, without any other stop codons in between. Thus, a candidate protein string is derived by translating an open reading frame into amino acids until a stop codon is reached.\n",
        "\n",
        "Given: A DNA string s of length at most 1 kbp in FASTA format.\n",
        "\n",
        "Return: Every distinct candidate protein string that can be translated from ORFs of s. Strings can be returned in any order.\n",
        "\n",
        "Sample Dataset\n",
        ">\\>Rosalind_99 \\\n",
        "AGCCATGTAGCTAACTCAGGTTACATGGGGATGACCCCGCGACTTGGATTAGAGTCTCTTTTGGAATAAGCCTGAATGATCCGAGTAGCATCTCAG\n",
        "\n",
        "Sample Output\n",
        ">MLLGSFRLIPKETLIQVAGSSPCNLS\\\n",
        "M\\\n",
        "MGMTPRLGLESLLE\\\n",
        "MTPRLGLESLLE"
      ],
      "metadata": {
        "id": "hAcsR9EB-pRD"
      }
    },
    {
      "cell_type": "code",
      "source": [
        "def transcribeDNAtoRNA(sequence):\n",
        "    return sequence.replace(\"T\",\"U\")"
      ],
      "metadata": {
        "id": "JguiRbIR-8bj"
      },
      "execution_count": 39,
      "outputs": []
    },
    {
      "cell_type": "code",
      "source": [
        "condons = \"\"\"UUU:F\\nCUU:L\\nAUU:I\\nGUU:V\n",
        "UUC:F\\nCUC:L\\nAUC:I\\nGUC:V\n",
        "UUA:L\\nCUA:L\\nAUA:I\\nGUA:V\n",
        "UUG:L\\nCUG:L\\nAUG:M\\nGUG:V\n",
        "UCU:S\\nCCU:P\\nACU:T\\nGCU:A\n",
        "UCC:S\\nCCC:P\\nACC:T\\nGCC:A\n",
        "UCA:S\\nCCA:P\\nACA:T\\nGCA:A\n",
        "UCG:S\\nCCG:P\\nACG:T\\nGCG:A\n",
        "UAU:Y\\nCAU:H\\nAAU:N\\nGAU:D\n",
        "UAC:Y\\nCAC:H\\nAAC:N\\nGAC:D\n",
        "UAA:Stop\\nCAA:Q\\nAAA:K\\nGAA:E\n",
        "UAG:Stop\\nCAG:Q\\nAAG:K\\nGAG:E\n",
        "UGU:C\\nCGU:R\\nAGU:S\\nGGU:G\n",
        "UGC:C\\nCGC:R\\nAGC:S\\nGGC:G\n",
        "UGA:Stop\\nCGA:R\\nAGA:R\\nGGA:G\n",
        "UGG:W\\nCGG:R\\nAGG:R\\nGGG:G\"\"\"\n",
        "\n",
        "codon_dict = {}\n",
        "for x in condons.split(\"\\n\"):\n",
        "    temp = x.split(\":\")\n",
        "    codon_dict[temp[0]] = temp[1]"
      ],
      "metadata": {
        "id": "ZhykcfIWpZgF"
      },
      "execution_count": 40,
      "outputs": []
    },
    {
      "cell_type": "code",
      "source": [
        "from textwrap import wrap\n",
        "\n",
        "def generateRedingFrames(sequence):\n",
        "    rf1 = wrap(sequence,3)\n",
        "    rf2 = wrap(sequence[1:],3)\n",
        "    rf3 = wrap(sequence[2:],3)\n",
        "    \n",
        "    if len(rf3[-1]) < 3:\n",
        "        rf3.remove(rf3[-1])\n",
        "    if len(rf2[-1]) < 3:\n",
        "        rf2.remove(rf2[-1])\n",
        "    if len(rf1[-1]) < 3:\n",
        "        rf1.remove(rf1[-1])\n",
        "    return [rf1, rf2, rf3]\n",
        "\n",
        "def complementDNA(sequence):\n",
        "    complementDict =  {'A': 'T', 'T':'A', 'C': 'G', 'G': 'C'}\n",
        "    transTable = sequence.maketrans(complementDict)\n",
        "    return sequence.translate(transTable)[::-1]\n",
        "\n",
        "def wrapReverseAndNormalRF(sequence):\n",
        "    rfs = []\n",
        "    reverseSequence =  transcribeDNAtoRNA(complementDNA(sequence))\n",
        "    sequence = transcribeDNAtoRNA(sequence)\n",
        "    rfs += generateRedingFrames(sequence)\n",
        "    rfs += generateRedingFrames(reverseSequence) \n",
        "    return rfs\n",
        "\n",
        "def generateAllSequences(sequence):\n",
        "    \n",
        "    readingFrames = wrapReverseAndNormalRF(sequence)\n",
        "    \n",
        "    return readingFrames\n",
        "\n",
        "def createProteinSeq(sequence):\n",
        "    AASeq = []\n",
        "    # print()\n",
        "    # print((\"\".join([codon_dict[x] for x in sequence])))\n",
        "    for i, codon in enumerate(sequence):\n",
        "        if codon == 'AUG': #start of a sequence found\n",
        "            tempSequence = ['M']\n",
        "            # print('M')\n",
        "            sequenceLeft = sequence[i+1:]\n",
        "            for nextCodon in sequenceLeft:\n",
        "                nextAA = codon_dict[nextCodon]\n",
        "                # print(nextAA)\n",
        "                if nextAA == 'Stop':\n",
        "                    AASeq.append(tempSequence)\n",
        "                    # print(tempSequence)\n",
        "                    break\n",
        "                else:\n",
        "                    tempSequence.append(nextAA)\n",
        "            \n",
        "            \n",
        "    return AASeq\n",
        "            \n",
        "def findPosibleProtienStrings(sequence):\n",
        "    allSequences = generateAllSequences(sequence)\n",
        "    \n",
        "    sequenceBank = []\n",
        "    for sequence in allSequences:\n",
        "        sequenceBank += (createProteinSeq(sequence))\n",
        "        \n",
        "    return print(\"\\n\".join(list(set([\"\".join(x) for x in sequenceBank]))))"
      ],
      "metadata": {
        "id": "zK1Fx4wppgLH"
      },
      "execution_count": 41,
      "outputs": []
    },
    {
      "cell_type": "code",
      "source": [
        "testSequence = \"AGCCATGTAGCTAACTCAGGTTACATGGGGATGACCCCGCGACTTGGATTAGAGTCTCTTTTGGAATAAGCCTGAATGATCCGAGTAGCATCTCAG\"\n",
        "findPosibleProtienStrings(testSequence)"
      ],
      "metadata": {
        "colab": {
          "base_uri": "https://localhost:8080/"
        },
        "id": "ATHrD6viqmtO",
        "outputId": "876f17bf-cd7e-4d7c-e419-23f691f6b4da"
      },
      "execution_count": 42,
      "outputs": [
        {
          "output_type": "stream",
          "name": "stdout",
          "text": [
            "MLLGSFRLIPKETLIQVAGSSPCNLS\n",
            "M\n",
            "MGMTPRLGLESLLE\n",
            "MTPRLGLESLLE\n"
          ]
        }
      ]
    },
    {
      "cell_type": "code",
      "source": [
        "actualSequence = \"\"\"GAGTGAATATGGTGAGTACATAGCATAAGGCTGTGCTTAGATGTCGTACTAGTCCCCTGG\n",
        "GAGCAGTTAAAATACGGTCTCACATGTCATCCTATGGATGATTCGGATCCTTCGCGAGGC\n",
        "CAGAAAATCCGGGGTCCAGCGGTATGTAGTGAGAAGGTGATGGTTTCAGAACTATGCGTT\n",
        "TCATCAGCCTGGACGCTCTGCCCGAGCGGATGTTCCCCTAATTATGTGGGCCAATCGGTG\n",
        "ATACGCGCGCCTCGGATCCTTTGAAATACTGTTAGGAAAGGCCTGGGAACAAAGCACATA\n",
        "ATGCGGCTGTGACCATAACCACAATCAGAGTGTACATTTCGAGGTAAATGGCGCCTCTCG\n",
        "TATAGACCGATGCATTACTAACACTACATACCTACCAAGCCTGCTGATTCTTGCTATTCT\n",
        "CCTTGCCTAAGGCCCCACATAGTCGGATGAGCGGTTGATGCACGGGGTTCACACGCTATC\n",
        "AGACTAGCTAGTCTGATAGCGTGTGAACCCCGTGCATATTAATCAGGTCTATCACACTAC\n",
        "GTAGACGTGGACCGGACTCAACGGATACATTGCGGCCTGCTCCATAGATTGAAATATTCG\n",
        "GCACGTCTGCTTGGAAAATTCTGATCTTCCTCGTTCAAGCCCATGTGGCATACCATACGA\n",
        "GACATATGAGATCGCTCCTGGGTTTGTCAGTCCAAGTAGTAACTTCTCTTCTGGGAATGC\n",
        "CGTACATGCCTTAGGTGTTTGGTTCAACGATGATCGAGCAGTACAACTGCGCAACCAACG\n",
        "CTCGTTCCTTATGCGTGCGACTACATCGCATACCCCCCCTTGGGCGGGCTAAAGCTGAGT\n",
        "CAGTCTTTGAGGGTCTGTTAAGTTTGACACACAACTGCCGATGCGTTAACCTGAAACTAG\n",
        "AAGAGATCCGGATACCACAGTGGAGGTTGACCATAACTTGGCTATGGAGTAAAATATTAT\n",
        "ATCCTGACCGTAAC\"\"\".replace(\"\\n\",\"\")"
      ],
      "metadata": {
        "id": "cGH6yBa9qrDJ"
      },
      "execution_count": 43,
      "outputs": []
    },
    {
      "cell_type": "code",
      "source": [
        "findPosibleProtienStrings(actualSequence)\n"
      ],
      "metadata": {
        "id": "rV-ohZVNrTZI",
        "outputId": "7e691913-5d23-47f2-eb2c-d09574c22b00",
        "colab": {
          "base_uri": "https://localhost:8080/"
        }
      },
      "execution_count": 44,
      "outputs": [
        {
          "output_type": "stream",
          "name": "stdout",
          "text": [
            "MR\n",
            "MP\n",
            "MEQAAMYPLSPVHVYVV\n",
            "MVTAALCALFPGLS\n",
            "MVSELCVSSAWTLCPSGCSPNYVGQSVIRAPRIL\n",
            "MSY\n",
            "MHY\n",
            "MPHGLERGRSEFSKQTCRIFQSMEQAAMYPLSPVHVYVV\n",
            "MVNLHCGIRISSSFRLTHRQLCVKLNRPSKTDSALARPRGGMRCSRTHKERALVAQLYCSIIVEPNT\n",
            "MTCETVF\n",
            "MAPLV\n",
            "MSSYG\n",
            "MYPLSPVHVYVV\n",
            "MIRILREARKSGVQRYVVRR\n",
            "MYTLIVVMVTAALCALFPGLS\n",
            "MKRIVLKPSPSHYIPLDPGFSGLAKDPNHP\n",
            "MWHTIRDI\n",
            "MVCHMGLNEEDQNFPSRRAEYFNLWSRPQCIR\n",
            "MRSLLGLSVQVVTSLLGMPYMP\n",
            "MDDSDPSRGQKIRGPAVCSEKVMVSELCVSSAWTLCPSGCSPNYVGQSVIRAPRIL\n",
            "MHGVHTLSD\n",
            "MSRMVCHMGLNEEDQNFPSRRAEYFNLWSRPQCIR\n",
            "MWGLRQGE\n",
            "MRFISLDALPERMFP\n",
            "M\n",
            "MVST\n",
            "MRL\n",
            "MFP\n",
            "MHRSIREAPFTSKCTL\n",
            "MYGIPRREVTTWTDKPRSDLICLVWYATWA\n",
            "MSG\n",
            "MRATTSHTPPWAG\n",
            "MRCSRTHKERALVAQLYCSIIVEPNT\n",
            "MPYMP\n",
            "MWANR\n",
            "MCFVPRPFLTVFQRIRGARITDWPT\n",
            "MGLNEEDQNFPSRRAEYFNLWSRPQCIR\n",
            "ME\n"
          ]
        }
      ]
    }
  ]
}