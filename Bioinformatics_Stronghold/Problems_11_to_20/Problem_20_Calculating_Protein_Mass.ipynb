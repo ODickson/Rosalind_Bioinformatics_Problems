{
  "nbformat": 4,
  "nbformat_minor": 0,
  "metadata": {
    "colab": {
      "name": "Problem 20: Calculating Protein Mass",
      "provenance": []
    },
    "kernelspec": {
      "name": "python3",
      "display_name": "Python 3"
    },
    "language_info": {
      "name": "python"
    }
  },
  "cells": [
    {
      "cell_type": "markdown",
      "source": [
        "# Problem 20: Calculating Protein Mass\n",
        "In a weighted alphabet, every symbol is assigned a positive real number called a weight. A string formed from a weighted alphabet is called a weighted string, and its weight is equal to the sum of the weights of its symbols.\n",
        "\n",
        "The standard weight assigned to each member of the 20-symbol amino acid alphabet is the monoisotopic mass of the corresponding amino acid.\n",
        "\n",
        "Given: A protein string P of length at most 1000 aa.\n",
        "\n",
        "Return: The total weight of P. Consult the monoisotopic mass table.\n",
        "\n",
        "Sample Dataset\n",
        ">SKADYEK\n",
        "\n",
        "Sample Output\n",
        ">821.392"
      ],
      "metadata": {
        "id": "hAcsR9EB-pRD"
      }
    },
    {
      "cell_type": "code",
      "source": [
        "massString = \"\"\"A   71.03711\n",
        "C   103.00919\n",
        "D   115.02694\n",
        "E   129.04259\n",
        "F   147.06841\n",
        "G   57.02146\n",
        "H   137.05891\n",
        "I   113.08406\n",
        "K   128.09496\n",
        "L   113.08406\n",
        "M   131.04049\n",
        "N   114.04293\n",
        "P   97.05276\n",
        "Q   128.05858\n",
        "R   156.10111\n",
        "S   87.03203\n",
        "T   101.04768\n",
        "V   99.06841\n",
        "W   186.07931\n",
        "Y   163.06333\"\"\".split(\"\\n\")\n",
        "massString = [x.split(\"   \") for x in massString]\n",
        "\n",
        "massDict = {}\n",
        "\n",
        "for x in massString:\n",
        "  massDict[x[0]] = float(x[1])\n",
        "\n",
        "massDict"
      ],
      "metadata": {
        "colab": {
          "base_uri": "https://localhost:8080/"
        },
        "id": "JguiRbIR-8bj",
        "outputId": "377d9503-12d3-4a28-bd6f-3d9f231c3a44"
      },
      "execution_count": 60,
      "outputs": [
        {
          "output_type": "execute_result",
          "data": {
            "text/plain": [
              "{'A': 71.03711,\n",
              " 'C': 103.00919,\n",
              " 'D': 115.02694,\n",
              " 'E': 129.04259,\n",
              " 'F': 147.06841,\n",
              " 'G': 57.02146,\n",
              " 'H': 137.05891,\n",
              " 'I': 113.08406,\n",
              " 'K': 128.09496,\n",
              " 'L': 113.08406,\n",
              " 'M': 131.04049,\n",
              " 'N': 114.04293,\n",
              " 'P': 97.05276,\n",
              " 'Q': 128.05858,\n",
              " 'R': 156.10111,\n",
              " 'S': 87.03203,\n",
              " 'T': 101.04768,\n",
              " 'V': 99.06841,\n",
              " 'W': 186.07931,\n",
              " 'Y': 163.06333}"
            ]
          },
          "metadata": {},
          "execution_count": 60
        }
      ]
    },
    {
      "cell_type": "code",
      "source": [
        "def calculateMass(sequence):\n",
        "    splitSequence = list(sequence)\n",
        "\n",
        "    totalMass = 0\n",
        "\n",
        "    for aa in splitSequence:\n",
        "        totalMass += massDict[aa]\n",
        "    return round(totalMass,3)"
      ],
      "metadata": {
        "id": "5zsLote4s5Ft"
      },
      "execution_count": 63,
      "outputs": []
    },
    {
      "cell_type": "code",
      "source": [
        "calculateMass(\"SKADYEK\")"
      ],
      "metadata": {
        "colab": {
          "base_uri": "https://localhost:8080/"
        },
        "id": "7a_3w7kDtUVb",
        "outputId": "71c46b98-5a36-469c-8461-e801193e0cca"
      },
      "execution_count": 64,
      "outputs": [
        {
          "output_type": "execute_result",
          "data": {
            "text/plain": [
              "821.392"
            ]
          },
          "metadata": {},
          "execution_count": 64
        }
      ]
    },
    {
      "cell_type": "code",
      "source": [
        "actualSequence = \"MALVYERQEPRHHFIRGGNSRDQEPMMDLICVKPTCCMGHGVWHTSQAKGMYDYWAQLLWMVIWFPCRRIFPVSMCMKPYKGLSLAYGQHNWQKDNAIFPLHDPETKASKKDWMPDIHFWSILILCWHNMHKEGYQRLDNIQMYWGKNKWGQIAKIKWQPYIFKSCPMAEGSLFRPQDECETPPADPKWNFVIYWCGDALPVLWEHPLHATLERSLGRCCQTIKQSRCESPVHQGSRSWMHFMEVGNYHGWFGGLEDNVCEQGEFPHYFPGAYYPHMHMMRHYGEMDCDCNTSDIRRYYPWRDEIFEIWCGITRVYYCEAWHQAMIQMMRDHHSQGPMSHFWSIWFVCADQSINYTQHEQIKVQNRHWQFAFVNGMWGITPNYVGWRCEQPKLLMNYLNFMWHEKQPFAVIPVMGSDEHIYKTAKLGNVTGWIACYTNQPIYHHGCPTCEITLLKGMAWPSNYRFSRTHAVWFTGSPMMEYHTMKLMCVKINQALQHWEESVEQRDHIFNANCQGFESAGHLWMNNINDAEFRNYVQQRKEKSWYFKQKTLMHNAMMFWDNSYDYKFFMYTQCAAWNKVRCMNDIGGTAESVSDEWFEADYCEVEFMKLMEQQTESPPPGFHRESTVKYSNNDLTRRVEGHWHLRANKFMWRHLNMGSCQDGVLYDMHEIFNLQQMICRPINQVCAYCGDCVWRPMNGPQPKKFSCLMPPYEFVYQMTSFWHMQGVCSRWCYVEWLSIECYWARYYHFCDKPKMGVIGKFNIVLRTLPQRIKCTAIVEIFCATEIYSNCINGAHTHERVVYVLLQLAFDLMHYSASCRKVPVNLNNRMDGLDWQYCLPWWLLIGDQTMNNVAFPGFVCFEMKFKNRFKCIAEKYPYRSFQIHMPCCSACYMPKKMGVQIVEKLYHMMNTSYAVDRFSWKMLGYAYIKASHEHDHETCFNKTIHWWPYMSCHEQWIHTQCCSFFMKIYSLGYNTKLEFTGRDGSCVHGCAWN\""
      ],
      "metadata": {
        "id": "NqXFTb4QtpLV"
      },
      "execution_count": 65,
      "outputs": []
    },
    {
      "cell_type": "code",
      "source": [
        "calculateMass(actualSequence)"
      ],
      "metadata": {
        "colab": {
          "base_uri": "https://localhost:8080/"
        },
        "id": "9SBB4Jhjtvre",
        "outputId": "27b53623-645e-4423-9fa9-b3ffb6165587"
      },
      "execution_count": 66,
      "outputs": [
        {
          "output_type": "execute_result",
          "data": {
            "text/plain": [
              "118256.136"
            ]
          },
          "metadata": {},
          "execution_count": 66
        }
      ]
    }
  ]
}