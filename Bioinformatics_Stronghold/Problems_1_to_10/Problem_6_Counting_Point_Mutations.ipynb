{
  "nbformat": 4,
  "nbformat_minor": 0,
  "metadata": {
    "colab": {
      "name": " Problem 6: Counting Point Mutations.ipynb",
      "provenance": []
    },
    "kernelspec": {
      "name": "python3",
      "display_name": "Python 3"
    },
    "language_info": {
      "name": "python"
    }
  },
  "cells": [
    {
      "cell_type": "markdown",
      "source": [
        "# Problem 6: Counting Point Mutations\n",
        "Given two strings s and t of equal length, the Hamming distance between s and t, denoted dH(s,t), is the number of corresponding symbols that differ in s and t. See Figure 2.\n",
        "\n",
        "Given: Two DNA strings s and t of equal length (not exceeding 1 kbp).\n",
        "\n",
        "Return: The Hamming distance dH(s,t).\n",
        "\n",
        "Sample Dataset\n",
        "\n",
        ">GAGCCTACTAACGGGAT\\\n",
        "CATCGTAATGACGGCCT\n",
        "\n",
        "Sample Output\n",
        "\n",
        ">7"
      ],
      "metadata": {
        "id": "hAcsR9EB-pRD"
      }
    },
    {
      "cell_type": "code",
      "source": [
        "import numpy as np\n",
        "\n",
        "def countPointMutations(seq1,seq2):\n",
        "    # hamming distance - number of bases that are different\n",
        "    # utalise NumPy arrays to create a boolian array\n",
        "    seq1 = np.array(list(seq1))\n",
        "    seq2 = np.array(list(seq2))\n",
        "    \n",
        "    return len(seq1[seq1 != seq2])"
      ],
      "metadata": {
        "id": "JguiRbIR-8bj"
      },
      "execution_count": 47,
      "outputs": []
    },
    {
      "cell_type": "code",
      "source": [
        "testSeq1 = np.array(list(\"GAGCCTACTAACGGGAT\"))\n",
        "testSeq2 = np.array(list(\"CATCGTAATGACGGCCT\"))"
      ],
      "metadata": {
        "id": "uDY5A1PbTSqn"
      },
      "execution_count": 49,
      "outputs": []
    },
    {
      "cell_type": "code",
      "source": [
        "countPointMutations(testSeq1,testSeq2)"
      ],
      "metadata": {
        "colab": {
          "base_uri": "https://localhost:8080/"
        },
        "id": "dGKC-lg5TYIB",
        "outputId": "6a27e764-c6e0-49bd-a8ec-f4bcb3740df9"
      },
      "execution_count": 50,
      "outputs": [
        {
          "output_type": "execute_result",
          "data": {
            "text/plain": [
              "7"
            ]
          },
          "metadata": {},
          "execution_count": 50
        }
      ]
    },
    {
      "cell_type": "code",
      "source": [
        "seq1 = \"ATACCGACGAATACACGCGGTCACTACATGATAGTATAGCTCATTTTAGCTCGCGTACTGGCGAGTGAATTCCCCACTACGCTTGAGAGATGGACGGCGCCGACCAGCTACCTCGCAGTATCTTAGAACTATGAAGCCCCGGATATCACGTGAATACGCCTATGAAGGGTTACCTGGTCTATAAACATCGATTTGTGATATCGAAAGAGAGGACCTATTATAGATAGGGTCCCCGACTCGAGTTCGGAAAGGAGTCTGACCGCAAGGACGCTTGTTGCTCGTCACGAACTAGGTCGTATGCTCTGGTTCGTGAGACCAGTGGTCAAATTAGTATCTGATAAAGTGGCTTCACCAGAGTATCCCATGACCAGGTGAGCGCCTATAAACGCTGACGGTCAGGTTGGCGGCTCGATTTGACACATCCTCCGTGTGATACGCCGAAGTCGGTTATCTAGAAATCGACTGGTGTAGCCCATACATGTGTCGTGCAGTGCGATCTTGGCCGGACGACAGGTAGTTCAACGCTCCGAGTTCATGTTTGGTAACGTCCCATTAAGATGGCCAAACGGCATGCGATCTTCTTGGGTCCGCACCCCTACCGGTCCTTGCGCTGAGTCATTTTGTGAGTGTGGCGTGGTAAGATCGAGCGATTACTGTTTCGGGGGTTCCGGAATAGGGGCATACGAACCTAGTGCCGGAGAGGCCAGTTTATGATGGATGGTGAGGGCATGTAGAACTTTAACAGGTGAAGTAATCCAACTATGCATCTGCGGTGAAAGTCCAAATGGAGACTTCACCATCTAAACGCGACAGAAGACGTGCACGGATAAACGCCTAAATCTGTGGTGTTCTGTTAATAGGCAGGGACTGCACGTCTATTAGTTGGTCAGGCAGCCCCCTAGCCGACCTGGGGACAGCTATATTTATATGGCAGTAAAGGTTTTACCCGGCGTGAGACTAATTACTACGTACTACAAAAGGAACCGCCCTCTCGTCG\"\n",
        "seq2 = \"GAACAGTCGGATGACAGAGGCTAGCTCATGCTAGCCCCCCACATTCGGCTGAGCGGAGGGGTGGTCGTGGGCAGAAGCAGTTGCGTGAAGTGGACGCCGCCGACCAGATACCTCTCCTTATCCTTTGGGTAGCCATCTAGCGATATTGGGTAACTGTACTTATGGCGAGCGTCGTGGTAGAACCATTGCGACTGTTTATCACGACATAGAAAACTTACGACAGCCTTTGCCGCCGCAGCGAGTGCGTAAAGGAGCCTCTGCACATTGACTCTGAAGGATACAGACATTCTGTTTACCAAGCTCGGTTCGCGTAGATCGCCCGACAAAGTACTACCGAAAAATATCGGCCCATCTAAATGTGCCATTAAGAAAAGACCGGCCGGGTACACTGCCAGTAAGGTCGCCAGTAATACAGGGCACACCCAGAGTGTGGTCATAGTTCCTGAATATGTTAAGCAAGAACATTGGGAGCCCCTATATATGCTGTCTACCACGTGGTAGGCCTCTCCTTTATATGTACCATGTGGCGCGGATATACTAGGTAAGTTCCTCCCCGAACGGCACAACGGCCCGCAATAGTATTGGCCCCCTTGCCGGATAGTCTCTCCGGCTTAGAAATGCGCTGAGTGGGCCGTGCCGCAGGTAAGTAAGTCCCGTTTCGTAGGGTCTGTTATCTCGCCATATCATTGTAAAGCTAGACTGGTTAATTTAGGTGGGACAGCGTCGCGCTAGAGTGCTGCCATAGGCAGGGACACGCTGATCTTCTTTCCCGGTGAGCGTCGTTAGTAATGCTTTACCAGATGAGTGATATAGGGCCGTGCCTGCCATATCAATTTATTCGTGCGGAAGTATCGTGATTGCCCTGGACCGTGCGGTTAGCAACTGCTCGGGAACGACAATTGCGAAGGCGTGGACTAAAATACGTTCAAGTCATAATAAAAGGTACCCAGGACGAGTCTAATCTATCAGGGTTACCAACCTAAAAGCAGCCTCGTTA\""
      ],
      "metadata": {
        "id": "Brwphwex-qoT"
      },
      "execution_count": 51,
      "outputs": []
    },
    {
      "cell_type": "code",
      "source": [
        "countPointMutations(seq1,seq2)"
      ],
      "metadata": {
        "colab": {
          "base_uri": "https://localhost:8080/"
        },
        "id": "TbnyW_fo_AIC",
        "outputId": "4a48fd16-997c-4f68-806f-5bf4ae728209"
      },
      "execution_count": 52,
      "outputs": [
        {
          "output_type": "execute_result",
          "data": {
            "text/plain": [
              "514"
            ]
          },
          "metadata": {},
          "execution_count": 52
        }
      ]
    }
  ]
}