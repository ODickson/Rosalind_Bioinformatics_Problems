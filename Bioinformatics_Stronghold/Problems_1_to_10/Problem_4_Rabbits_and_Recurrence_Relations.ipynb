{
  "nbformat": 4,
  "nbformat_minor": 0,
  "metadata": {
    "colab": {
      "name": "Problem 4 Rabbits and Recurrence Relations.ipynb",
      "provenance": []
    },
    "kernelspec": {
      "name": "python3",
      "display_name": "Python 3"
    },
    "language_info": {
      "name": "python"
    }
  },
  "cells": [
    {
      "cell_type": "markdown",
      "source": [
        "# Problem 4 Rabbits and Recurrence Relations\n",
        "A sequence is an ordered collection of objects (usually numbers), which are allowed to repeat. Sequences can be finite or infinite. Two examples are the finite sequence (π,−2–√,0,π) and the infinite sequence of odd numbers (1,3,5,7,9,…). We use the notation an to represent the n-th term of a sequence.\n",
        "\n",
        "A recurrence relation is a way of defining the terms of a sequence with respect to the values of previous terms. In the case of Fibonacci's rabbits from the introduction, any given month will contain the rabbits that were alive the previous month, plus any new offspring. A key observation is that the number of offspring in any month is equal to the number of rabbits that were alive two months prior. As a result, if Fn represents the number of rabbit pairs alive after the n-th month, then we obtain the Fibonacci sequence having terms Fn that are defined by the recurrence relation Fn=Fn−1+Fn−2 (with F1=F2=1 to initiate the sequence). Although the sequence bears Fibonacci's name, it was known to Indian mathematicians over two millennia ago.\n",
        "\n",
        "When finding the n-th term of a sequence defined by a recurrence relation, we can simply use the recurrence relation to generate terms for progressively larger values of n. This problem introduces us to the computational technique of dynamic programming, which successively builds up solutions by using the answers to smaller cases.\n",
        "\n",
        "Given: Positive integers n≤40 and k≤5.\n",
        "\n",
        "Return: The total number of rabbit pairs that will be present after n months, if we begin with 1 pair and in each generation, every pair of reproduction-age rabbits produces a litter of k rabbit pairs (instead of only 1 pair).\n",
        "\n",
        "Sample Dataset \\\n",
        "> 5 3 \\\n",
        "\n",
        "Sample Output \\\n",
        "> 19"
      ],
      "metadata": {
        "id": "hAcsR9EB-pRD"
      }
    },
    {
      "cell_type": "code",
      "source": [
        "testN = 5\n",
        "testK = 3"
      ],
      "metadata": {
        "id": "Brwphwex-qoT"
      },
      "execution_count": 22,
      "outputs": []
    },
    {
      "cell_type": "code",
      "source": [
        "def fibRabits(n,k):\n",
        "    children = 1\n",
        "    adult = 0\n",
        "    total = 1\n",
        "    # print(1,adult,children,total) # print out generation\n",
        "    for i in range(0,n-1):\n",
        "        new_children = adult * k # each adult pair as k children\n",
        "        new_adults = children # previous generation of children are now adults\n",
        "        \n",
        "        adult += new_adults\n",
        "        children = new_children\n",
        "        total = adult + children\n",
        "        # print(i+2,adult,children,total)\n",
        "    return total"
      ],
      "metadata": {
        "id": "JguiRbIR-8bj"
      },
      "execution_count": 28,
      "outputs": []
    },
    {
      "cell_type": "code",
      "source": [
        "fibRabits(testN,testK)"
      ],
      "metadata": {
        "colab": {
          "base_uri": "https://localhost:8080/"
        },
        "id": "TbnyW_fo_AIC",
        "outputId": "02641201-83ea-4f93-cec6-9e09f75c4975"
      },
      "execution_count": 29,
      "outputs": [
        {
          "output_type": "execute_result",
          "data": {
            "text/plain": [
              "19"
            ]
          },
          "metadata": {},
          "execution_count": 29
        }
      ]
    },
    {
      "cell_type": "code",
      "source": [
        "actualN = 30\n",
        "actualK = 2\n",
        "fibRabits(actualN,actualK)"
      ],
      "metadata": {
        "colab": {
          "base_uri": "https://localhost:8080/"
        },
        "id": "1xK81VnxSfvX",
        "outputId": "a2125f8a-d83c-40d1-c353-b46e4bdd4ab1"
      },
      "execution_count": 30,
      "outputs": [
        {
          "output_type": "execute_result",
          "data": {
            "text/plain": [
              "357913941"
            ]
          },
          "metadata": {},
          "execution_count": 30
        }
      ]
    }
  ]
}
